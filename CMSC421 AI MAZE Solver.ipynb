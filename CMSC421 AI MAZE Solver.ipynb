{
  "nbformat": 4,
  "nbformat_minor": 0,
  "metadata": {
    "colab": {
      "provenance": [],
      "collapsed_sections": [
        "S12zOk8I9uKY"
      ],
      "include_colab_link": true
    },
    "kernelspec": {
      "name": "python3",
      "display_name": "Python 3"
    },
    "language_info": {
      "name": "python"
    }
  },
  "cells": [
    {
      "cell_type": "markdown",
      "metadata": {
        "id": "view-in-github",
        "colab_type": "text"
      },
      "source": [
        "<a href=\"https://colab.research.google.com/github/degumuse5/CMSC421-Project/blob/main/CMSC421%20AI%20MAZE%20Solver.ipynb\" target=\"_parent\"><img src=\"https://colab.research.google.com/assets/colab-badge.svg\" alt=\"Open In Colab\"/></a>"
      ]
    },
    {
      "cell_type": "markdown",
      "source": [
        "### **Maze Logistic**\n",
        "The maze is a 2d array which has walls (\"W\") and path (\"O\"), starting point (\"S\") and finsh point(\"X\"). The maze will not just have one solution but multiple solution's, shortest or longest will be determined by the algorims we use.\n"
      ],
      "metadata": {
        "id": "S12zOk8I9uKY"
      }
    },
    {
      "cell_type": "code",
      "source": [
        "import random\n",
        "def random_edge_cell(width, height):\n",
        "    if width < 1 or height < 1:\n",
        "        raise ValueError(\"Width and height must be at least 1\")\n",
        "\n",
        "    # Choose a random side: top (0), bottom (1), left (2), right (3)\n",
        "    side = random.randint(0, 3)\n",
        "\n",
        "    if side == 0:\n",
        "        # Top row\n",
        "        return (0, random.randint(0, width - 1))\n",
        "    elif side == 1:\n",
        "        # Bottom row\n",
        "        return (height - 1, random.randint(0, width - 1))\n",
        "    elif side == 2:\n",
        "        # Left column\n",
        "        return (random.randint(0, height - 1), 0)\n",
        "    elif side == 3:\n",
        "        # Right column\n",
        "        return (random.randint(0, height - 1), width - 1)\n",
        "import matplotlib.pyplot as plt\n",
        "# Carve a path just incase maze with no solution is created, since the states are randomly placed\n",
        "def create_random_path(point1, point2):\n",
        "    # Unpack the points\n",
        "    x1, y1 = point1\n",
        "    x2, y2 = point2\n",
        "\n",
        "    # Path list starts with the initial point\n",
        "    path = [point1]\n",
        "\n",
        "    # Current position\n",
        "    current_x, current_y = x1, y1\n",
        "\n",
        "    # Move step by step towards the target\n",
        "    while (current_x, current_y) != (x2, y2):\n",
        "        if current_x != x2:\n",
        "            # Move in x direction\n",
        "            step_x = 1 if x2 > current_x else -1\n",
        "            if random.choice([True, False]):  # Randomly choose to move in x if possible\n",
        "                current_x += step_x\n",
        "                path.append((current_x, current_y))\n",
        "                continue  # Skip the y movement in this iteration\n",
        "        if current_y != y2:\n",
        "            # Move in y direction\n",
        "            step_y = 1 if y2 > current_y else -1\n",
        "            current_y += step_y\n",
        "            path.append((current_x, current_y))\n",
        "\n",
        "    return path\n",
        "def generate_maze(width, height):\n",
        "    maze = [['W' for _ in range(width)] for _ in range(height)]\n",
        "    start = (0,0);\n",
        "    finish = (0,0);\n",
        "    while start == finish:\n",
        "      start = random_edge_cell(width, height)\n",
        "      finish = random_edge_cell(width, height)\n",
        "    path = create_random_path(start, finish)\n",
        "    maze[start[0]][start[1]] = 'S'\n",
        "    maze[finish[0]][finish[1]] = 'X'\n",
        "\n",
        "    # Carve the path in the maze, replacing 'o' with random numbers\n",
        "    for (x, y) in path:\n",
        "        if (x, y) != start and (x, y) != finish:\n",
        "            maze[x][y] = 1 # Random number between 0 and 10\n",
        "\n",
        "    # Randomly add openings, avoiding start and finish, with random numbers\n",
        "    for _ in range(int((width * height) * 0.7)):  # Adding openings to about 90% of the maze area\n",
        "        x, y = random.randint(0, width-1), random.randint(0, height-1)\n",
        "        if (x, y) != start and (x, y) != finish:\n",
        "            maze[x][y] = 1 # Random number 1\n",
        "\n",
        "    return maze, start, finish\n",
        "def print_maze_with_path_and_visited(maze, path, visited):\n",
        "    path_set = set(path) if path else set()\n",
        "    for x in range(len(maze)):\n",
        "        row = ''\n",
        "        for y in range(len(maze[0])):\n",
        "            if (x, y) in path_set:\n",
        "                row += 'P '  # Mark path\n",
        "            elif (x, y) in visited:\n",
        "                row += 'V '  # Mark visited\n",
        "            else:\n",
        "                row += str(maze[x][y]) + ' '\n",
        "        print(row)\n",
        "\n",
        "def print_maze(maze):\n",
        "    for row in maze:\n",
        "        print(' '.join(str(row)))\n",
        "def plot_maze(maze, path=None, visited=None):\n",
        "    fig, ax = plt.subplots()\n",
        "    for x in range(len(maze)):\n",
        "        for y in range(len(maze[0])):\n",
        "            if maze[x][y] == 'W':\n",
        "                ax.fill_between([y, y+1], x, x+1, color='black')\n",
        "            elif (x, y) == start:\n",
        "                ax.fill_between([y, y+1], x, x+1, color='yellow')  # Start\n",
        "            elif (x, y) == finish:\n",
        "                ax.fill_between([y, y+1], x, x+1, color='green')  # Finish\n",
        "            elif path and (x, y) in path:\n",
        "                ax.fill_between([y, y+1], x, x+1, color='blue')  # Path\n",
        "            elif visited and (x, y) in visited:\n",
        "                ax.fill_between([y, y+1], x, x+1, color='gray')  # Visited\n",
        "\n",
        "    ax.invert_yaxis()  # Invert the Y axis so the [0,0] is in the top-left corner\n",
        "    ax.set_aspect('equal')\n",
        "    plt.xticks([])\n",
        "    plt.yticks([])\n",
        "    plt.show()\n",
        "maze, start, finish = generate_maze(30, 30)\n",
        "plot_maze(maze)"
      ],
      "metadata": {
        "id": "TZ_nEDzlkpCM",
        "colab": {
          "base_uri": "https://localhost:8080/",
          "height": 406
        },
        "outputId": "8fe95356-9684-4a33-8dae-3cd7f70f573c"
      },
      "execution_count": null,
      "outputs": [
        {
          "output_type": "display_data",
          "data": {
            "text/plain": [
              "<Figure size 640x480 with 1 Axes>"
            ],
            "image/png": "[encoded data removed]"
          },
          "metadata": {}
        }
      ]
    },
    {
      "cell_type": "markdown",
      "source": [
        "### ****"
      ],
      "metadata": {
        "id": "4YNcEdLSlP_O"
      }
    },
    {
      "cell_type": "markdown",
      "source": [
        "### **Depth First Search Algorithim**\n",
        "DFS begins at a chosen node (the \"root\" if the graph is a tree) and explores as far along each branch as possible before backtracking. The maze's starting point is given to the fucntion, then DFS is performed which tries ever possible move to reach the end point(goal)."
      ],
      "metadata": {
        "id": "qPT_r9gZ6aBX"
      }
    },
    {
      "cell_type": "code",
      "execution_count": null,
      "metadata": {
        "colab": {
          "base_uri": "https://localhost:8080/",
          "height": 406
        },
        "id": "BpTHjlus5y4I",
        "outputId": "0f915ada-3580-4807-cda1-2c63c86a348e"
      },
      "outputs": [
        {
          "output_type": "display_data",
          "data": {
            "text/plain": [
              "<Figure size 640x480 with 1 Axes>"
            ],
            "image/png": "[encoded data removed]"
          },
          "metadata": {}
        }
      ],
      "source": [
        "def dfs_maze(maze, start, finish):\n",
        "    # Directions for moving in the maze: right, left, down, up\n",
        "    directions = [(0, 1), (0, -1), (1, 0), (-1, 0),(1,1),(1,-1),(-1,1),(-1,-1)]\n",
        "    width = len(maze[0])\n",
        "    height = len(maze)\n",
        "\n",
        "    # Stack for DFS with initial point\n",
        "    stack = [(start, [start])]  # (current_position, path_so_far)\n",
        "\n",
        "    # Set to track visited positions\n",
        "    visited = set()\n",
        "    visited.add(start)\n",
        "\n",
        "    while stack:\n",
        "        (current_x, current_y), path = stack.pop()\n",
        "\n",
        "        # Check if we've reached the finish\n",
        "        if (current_x, current_y) == finish:\n",
        "            return path, visited\n",
        "\n",
        "        # Explore neighbors\n",
        "        for dx, dy in directions:\n",
        "            next_x, next_y = current_x + dx, current_y + dy\n",
        "            if 0 <= next_x < height and 0 <= next_y < width:  # Check maze boundaries\n",
        "                if maze[next_x][next_y] != 'W' and (next_x, next_y) not in visited:  # Check if it's walkable and not visited\n",
        "                    visited.add((next_x, next_y))\n",
        "                    stack.append(((next_x, next_y), path + [(next_x, next_y)]))\n",
        "\n",
        "    return None  # Return None if no path is found\n",
        "\n",
        "# Example usage:\n",
        "path, visited = dfs_maze(maze, start, finish)\n",
        "\n",
        "plot_maze(maze, path, visited)"
      ]
    },
    {
      "cell_type": "markdown",
      "source": [
        "### **Breadth First Search Algorithim**\n"
      ],
      "metadata": {
        "id": "cf0Jn4OcO2EF"
      }
    },
    {
      "cell_type": "code",
      "source": [
        "import random\n",
        "import matplotlib.pyplot as plt\n",
        "from collections import deque\n",
        "def bfs_maze(maze, start, finish):\n",
        "    # Directions for moving in the maze: right, left, down, up\n",
        "    directions = [(0, 1), (0, -1), (1, 0), (-1, 0),(1,1),(1,-1),(-1,1),(-1,-1)]\n",
        "    width = len(maze[0])\n",
        "    height = len(maze)\n",
        "\n",
        "    # Queue for BFS with initial point\n",
        "    queue = deque([(start, [start])])  # (current_position, path_so_far)\n",
        "\n",
        "    # Set to track visited positions\n",
        "    visited = set()\n",
        "    visited.add(start)\n",
        "\n",
        "    while queue:\n",
        "        (current_x, current_y), path = queue.popleft()\n",
        "\n",
        "        # Check if we've reached the finish\n",
        "        if (current_x, current_y) == finish:\n",
        "            return path, visited\n",
        "\n",
        "        # Explore neighbors\n",
        "        for dx, dy in directions:\n",
        "            next_x, next_y = current_x + dx, current_y + dy\n",
        "            if 0 <= next_x < height and 0 <= next_y < width:  # Check maze boundaries\n",
        "                if maze[next_x][next_y] != 'W' and (next_x, next_y) not in visited:  # Check if it's walkable and not visited\n",
        "                    visited.add((next_x, next_y))\n",
        "                    queue.append(((next_x, next_y), path + [(next_x, next_y)]))\n",
        "\n",
        "    return None, visited  # Return None if no path is found\n",
        "\n",
        "# Example usage:\n",
        "path, visited = bfs_maze(maze, start, finish)\n",
        "\n",
        "plot_maze(maze, path, visited)"
      ],
      "metadata": {
        "colab": {
          "base_uri": "https://localhost:8080/",
          "height": 406
        },
        "id": "NlHWNRg6Yook",
        "outputId": "3511b1b9-4f61-4601-96f2-44b1fb57b995"
      },
      "execution_count": null,
      "outputs": [
        {
          "output_type": "display_data",
          "data": {
            "text/plain": [
              "<Figure size 640x480 with 1 Axes>"
            ],
            "image/png": "[encoded data removed]"
          },
          "metadata": {}
        }
      ]
    },
    {
      "cell_type": "markdown",
      "source": [],
      "metadata": {
        "id": "ic-wAHlObyVW"
      }
    },
    {
      "cell_type": "markdown",
      "source": [
        "### **Unifrom Cost Search**"
      ],
      "metadata": {
        "id": "iX5PP4tcfA4G"
      }
    },
    {
      "cell_type": "code",
      "source": [
        "import heapq\n",
        "\n",
        "def uniform_cost_search_with_path(grid, start, finish):\n",
        "    n = len(grid)\n",
        "    directions = [(0, 1), (0, -1), (1, 0), (-1, 0),(1,1),(1,-1),(-1,1),(-1,-1)]\n",
        "    pq = [(0, start)]\n",
        "    visited = set()\n",
        "    visited.add(start)\n",
        "    came_from = {start: None}  # Tracks predecessors of each node for path reconstruction\n",
        "\n",
        "    while pq:\n",
        "        current_cost, (x, y) = heapq.heappop(pq)\n",
        "\n",
        "        if (x, y) == finish:\n",
        "            # Reconstruct the path backward\n",
        "            path = []\n",
        "            node = finish\n",
        "            while node is not None:\n",
        "                path.append(node)\n",
        "                node = came_from[node]\n",
        "            return current_cost, path[::-1], visited  # Reverse the path to return from start to finish\n",
        "\n",
        "        for dx, dy in directions:\n",
        "            nx, ny = x + dx, y + dy\n",
        "            if 0 <= nx < n and 0 <= ny < n and grid[nx][ny] != 'W':\n",
        "                if (nx, ny) not in visited:\n",
        "                    visited.add((nx, ny))\n",
        "                    new_cost = current_cost + (grid[nx][ny] if isinstance(grid[nx][ny], int) else 0)\n",
        "                    heapq.heappush(pq, (new_cost, (nx, ny)))\n",
        "                    came_from[(nx, ny)] = (x, y)\n",
        "\n",
        "    return float('inf'), []  # If no path is found, return empty path\n",
        "\n",
        "\n",
        "\n",
        "cost, path, visited = uniform_cost_search_with_path(maze, start, finish)\n",
        "print(\"Lowest Cost from Start to Goal:\", cost)\n",
        "\n",
        "plot_maze(maze, path, visited)"
      ],
      "metadata": {
        "colab": {
          "base_uri": "https://localhost:8080/",
          "height": 423
        },
        "id": "KT9T17uCOyl1",
        "outputId": "fca692f1-9f6b-48fb-8947-55b1e624822c"
      },
      "execution_count": null,
      "outputs": [
        {
          "output_type": "stream",
          "name": "stdout",
          "text": [
            "Lowest Cost from Start to Goal: 28\n"
          ]
        },
        {
          "output_type": "display_data",
          "data": {
            "text/plain": [
              "<Figure size 640x480 with 1 Axes>"
            ],
            "image/png": "[encoded data removed]"
          },
          "metadata": {}
        }
      ]
    },
    {
      "cell_type": "markdown",
      "source": [],
      "metadata": {
        "id": "1NtIlOiZ9G5x"
      }
    },
    {
      "cell_type": "markdown",
      "source": [
        "### **Informed Searches**"
      ],
      "metadata": {
        "id": "ruHzGASv7A8M"
      }
    },
    {
      "cell_type": "markdown",
      "source": [
        "### **Greedy Search**"
      ],
      "metadata": {
        "id": "N2EUSpmdO0HN"
      }
    },
    {
      "cell_type": "code",
      "source": [
        "import heapq\n",
        "def manhattan_heuristic(cell, goal):\n",
        "    return (abs(goal[1] - cell[1]) + abs(goal[0] - cell[0]))/2\n",
        "def greedy(grid, start, finish):\n",
        "    n = len(grid)\n",
        "    directions = [(0, 1), (0, -1), (1, 0), (-1, 0),(1,1),(1,-1),(-1,1),(-1,-1)]\n",
        "    pq = [(0, start)]\n",
        "    visited = set()\n",
        "    visited.add(start)\n",
        "    came_from = {start: None}  # Tracks predecessors of each node for path reconstruction\n",
        "\n",
        "    while pq:\n",
        "        current_her, (x, y) = heapq.heappop(pq)\n",
        "\n",
        "        if (x, y) == finish:\n",
        "            # Reconstruct the path backward\n",
        "            path = []\n",
        "            node = finish\n",
        "            while node is not None:\n",
        "                path.append(node)\n",
        "                node = came_from[node]\n",
        "            return manhattan_heuristic(start,finish), path[::-1], visited  # Reverse the path to return from start to finish\n",
        "\n",
        "        for dx, dy in directions:\n",
        "            nx, ny = x + dx, y + dy\n",
        "            if 0 <= nx < n and 0 <= ny < n and grid[nx][ny] != 'W':\n",
        "                if (nx, ny) not in visited:\n",
        "                    visited.add((nx, ny))\n",
        "                    new_her = current_her + manhattan_heuristic((nx, ny),finish)\n",
        "                    heapq.heappush(pq, (new_her, (nx, ny)))\n",
        "                    came_from[(nx, ny)] = (x, y)\n",
        "\n",
        "    return float('inf'), []  # If no path is found, return empty path\n",
        "\n",
        "\n",
        "\n",
        "cost, path, visited = greedy(maze, start, finish)\n",
        "print(\"Lowest Cost from Start to Goal:\", cost)\n",
        "total = 0\n",
        "for d in path:\n",
        "  total += (maze[d[0]][d[1]] if isinstance(maze[d[0]][d[1]], int) else 0)\n",
        "\n",
        "print(total)\n",
        "\n",
        "plot_maze(maze, path, visited)"
      ],
      "metadata": {
        "colab": {
          "base_uri": "https://localhost:8080/",
          "height": 441
        },
        "id": "v-IUSducOz2c",
        "outputId": "46270e7c-e5e3-4e1d-c8f9-ccfd44469fc2"
      },
      "execution_count": null,
      "outputs": [
        {
          "output_type": "stream",
          "name": "stdout",
          "text": [
            "Lowest Cost from Start to Goal: 20.5\n",
            "28\n"
          ]
        },
        {
          "output_type": "display_data",
          "data": {
            "text/plain": [
              "<Figure size 640x480 with 1 Axes>"
            ],
            "image/png": "[encoded data removed]"
          },
          "metadata": {}
        }
      ]
    },
    {
      "cell_type": "markdown",
      "source": [
        "### **A(star) Search**"
      ],
      "metadata": {
        "id": "I0uJIcXClokM"
      }
    },
    {
      "cell_type": "code",
      "source": [
        "import heapq\n",
        "import math\n",
        "\n",
        "# Manhattan heuristic function\n",
        "def manhattan_heuristic(cell, goal):\n",
        "    return (abs(goal[1] - cell[1]) + abs(goal[0] - cell[0]))\n",
        "\n",
        "# A* Search function using the Manhattan heuristic\n",
        "def a_star_search(grid, start, goal):\n",
        "    n = len(grid)\n",
        "    directions = [(0, 1), (0, -1), (1, 0), (-1, 0),(1,1),(1,-1),(-1,1),(-1,-1)]  # Possible movements (up, down, right, left)\n",
        "    priority_queue = [(0, start)]  # Start with a priority queue\n",
        "    g_cost = {start: 0}  # Cumulative path cost from the start to each position\n",
        "    came_from = {start: None}  # To reconstruct the path\n",
        "    visited = set()\n",
        "\n",
        "    while priority_queue:\n",
        "        current_f, current = heapq.heappop(priority_queue)\n",
        "        print(str(current_f)+\" \")\n",
        "        if current == goal:\n",
        "            # Reconstruct path from goal to start\n",
        "            path = []\n",
        "            while current:\n",
        "                path.append(current)\n",
        "                current = came_from[current]\n",
        "            return g_cost[goal], path[::-1], visited  # Reverse the path to get it from start to goal\n",
        "\n",
        "        visited.add(current)\n",
        "\n",
        "        for dx, dy in directions:\n",
        "            neighbor = (current[0] + dx, current[1] + dy)\n",
        "\n",
        "            if 0 <= neighbor[0] < n and 0 <= neighbor[1] < n and grid[neighbor[0]][neighbor[1]] != 'W':\n",
        "                new_g = g_cost[current] + (grid[neighbor[0]][neighbor[1]] if isinstance(grid[neighbor[0]][neighbor[1]], int) else 0)\n",
        "\n",
        "                if neighbor not in visited or new_g < g_cost.get(neighbor, float('inf')):\n",
        "                    g_cost[neighbor] = new_g\n",
        "                    f = new_g + manhattan_heuristic(neighbor, goal)\n",
        "                    print()\n",
        "                    heapq.heappush(priority_queue, (f, neighbor))\n",
        "                    came_from[neighbor] = current\n",
        "\n",
        "    return float('inf'), []  # If no path is found\n",
        "\n",
        "\n",
        "lowest_cost, path, visited = a_star_search(maze, start, finish)\n",
        "\n",
        "print(\"Lowest Cost from Start to Goal:\", lowest_cost)\n",
        "plot_maze(maze, path, visited)"
      ],
      "metadata": {
        "colab": {
          "base_uri": "https://localhost:8080/",
          "height": 1000
        },
        "id": "hD5PAEjclnZ4",
        "outputId": "141f7ba7-c4d0-4824-aac3-32045827755a"
      },
      "execution_count": null,
      "outputs": [
        {
          "output_type": "stream",
          "name": "stdout",
          "text": [
            "0 \n",
            "\n",
            "\n",
            "40 \n",
            "\n",
            "\n",
            "\n",
            "\n",
            "\n",
            "\n",
            "39 \n",
            "\n",
            "\n",
            "\n",
            "\n",
            "\n",
            "\n",
            "38 \n",
            "\n",
            "\n",
            "\n",
            "\n",
            "\n",
            "37 \n",
            "\n",
            "\n",
            "\n",
            "36 \n",
            "\n",
            "\n",
            "\n",
            "\n",
            "35 \n",
            "\n",
            "\n",
            "\n",
            "\n",
            "34 \n",
            "\n",
            "\n",
            "\n",
            "\n",
            "\n",
            "33 \n",
            "\n",
            "\n",
            "\n",
            "32 \n",
            "\n",
            "\n",
            "\n",
            "\n",
            "31 \n",
            "\n",
            "\n",
            "\n",
            "\n",
            "30 \n",
            "\n",
            "\n",
            "\n",
            "\n",
            "29 \n",
            "\n",
            "\n",
            "\n",
            "\n",
            "\n",
            "29 \n",
            "\n",
            "\n",
            "\n",
            "\n",
            "\n",
            "\n",
            "29 \n",
            "\n",
            "\n",
            "\n",
            "\n",
            "\n",
            "29 \n",
            "\n",
            "\n",
            "\n",
            "29 \n",
            "\n",
            "\n",
            "29 \n",
            "\n",
            "\n",
            "29 \n",
            "\n",
            "\n",
            "29 \n",
            "\n",
            "\n",
            "29 \n",
            "\n",
            "\n",
            "\n",
            "29 \n",
            "\n",
            "\n",
            "\n",
            "\n",
            "29 \n",
            "\n",
            "\n",
            "\n",
            "\n",
            "\n",
            "29 \n",
            "\n",
            "\n",
            "\n",
            "\n",
            "\n",
            "29 \n",
            "\n",
            "\n",
            "\n",
            "\n",
            "\n",
            "29 \n",
            "\n",
            "\n",
            "\n",
            "\n",
            "29 \n",
            "\n",
            "\n",
            "\n",
            "\n",
            "29 \n",
            "\n",
            "\n",
            "\n",
            "\n",
            "\n",
            "29 \n",
            "\n",
            "\n",
            "\n",
            "\n",
            "\n",
            "\n",
            "28 \n",
            "Lowest Cost from Start to Goal: 28\n"
          ]
        },
        {
          "output_type": "display_data",
          "data": {
            "text/plain": [
              "<Figure size 640x480 with 1 Axes>"
            ],
            "image/png": "[encoded data removed]"
          },
          "metadata": {}
        }
      ]
    },
    {
      "cell_type": "code",
      "source": [],
      "metadata": {
        "id": "4Wg_d3D7I5Ou"
      },
      "execution_count": null,
      "outputs": []
    }
  ]
}